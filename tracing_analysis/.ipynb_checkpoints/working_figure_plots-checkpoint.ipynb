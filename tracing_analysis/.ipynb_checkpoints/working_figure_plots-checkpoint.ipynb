{
 "cells": [
  {
   "cell_type": "code",
   "execution_count": null,
   "metadata": {},
   "outputs": [],
   "source": [
    "import pymaid\n",
    "import matplotlib.pyplot as plt\n",
    "import numpy as np\n",
    "import tracing_analysis_functions_PPC as ppc\n",
    "import importlib\n",
    "importlib.reload(ppc)\n",
    "import seaborn as sns\n",
    "import pandas as pd\n",
    "import sys\n",
    "import os\n",
    "import h5py\n",
    "from datetime import date\n",
    "import time\n",
    "from scipy.spatial import distance as dist\n",
    "import scipy.io as sio\n",
    "import pickle\n",
    "import networkx as nx\n",
    "from sklearn.linear_model import LinearRegression\n",
    "import scipy.stats as stats\n",
    "import make_3dViewer_json as make_3dView\n",
    "\n",
    "# generate json for 3D viewer of pyr cell network\n",
    "\n",
    "# Load tracing dataframe from disk (for faster loading)\n",
    "with open('tracing_data.pkl', 'rb') as f:  \n",
    "    tracingDf = pickle.load(f)\n",
    "    \n",
    "# Load connectivity dataframe from disk (for faster loading)\n",
    "\n",
    "with open('psp_data.pkl', 'rb') as f:  \n",
    "    psp_df = pickle.load(f)\n",
    "\n",
    "with open('synapse_data.pkl', 'rb') as f:  \n",
    "    mySynapse_df = pickle.load(f)\n",
    "    \n",
    "with open('cn_data.pkl', 'rb') as f:  \n",
    "    myCN_df = pickle.load(f)    \n",
    "    \n",
    "# Analyze pyramidal network with traced PSPs\n",
    "myNeuronsDf = tracingDf[tracingDf.corr_quality.isin(['good','okay'])]\n",
    "mySources = myNeuronsDf[myNeuronsDf.type == 'pyramidal']\n",
    "mySources = mySources[myNeuronsDf.num_synout>0]\n",
    "mySources = mySources[myNeuronsDf.num_synout_unk<myNeuronsDf.num_synout]"
   ]
  },
  {
   "cell_type": "code",
   "execution_count": null,
   "metadata": {},
   "outputs": [],
   "source": [
    "skids_to_colors = dict()\n",
    "cmap = plt.cm.get_cmap('seismic')\n",
    "for i in mySources.index:\n",
    "#for (i,skid) in enumerate(mySources.skeleton_id):\n",
    "    skid = mySources['skeleton_id'][i]\n",
    "    color = cmap((mySources['RL_select_idx_ROC'][i]+1)/2)\n",
    "    skids_to_colors[skid]=color\n",
    "    #rgba = cmap(0.5)\n",
    "    #print(rgba) # (0.99807766255210428, 0.99923106502084169, 0.74602077638401709, 1.0)\n",
    "skids_to_colors"
   ]
  },
  {
   "cell_type": "code",
   "execution_count": 8,
   "metadata": {},
   "outputs": [
    {
     "ename": "NameError",
     "evalue": "name 'f' is not defined",
     "output_type": "error",
     "traceback": [
      "\u001b[0;31m---------------------------------------------------------------------------\u001b[0m",
      "\u001b[0;31mNameError\u001b[0m                                 Traceback (most recent call last)",
      "\u001b[0;32m<ipython-input-8-a3e2e0cb4cd3>\u001b[0m in \u001b[0;36m<module>\u001b[0;34m\u001b[0m\n\u001b[0;32m----> 1\u001b[0;31m \u001b[0;32mimport\u001b[0m \u001b[0mpymaid_addons\u001b[0m\u001b[0;34m\u001b[0m\u001b[0;34m\u001b[0m\u001b[0m\n\u001b[0m\u001b[1;32m      2\u001b[0m \u001b[0mimportlib\u001b[0m\u001b[0;34m.\u001b[0m\u001b[0mreload\u001b[0m\u001b[0;34m(\u001b[0m\u001b[0mpymaid_addons\u001b[0m\u001b[0;34m)\u001b[0m\u001b[0;34m\u001b[0m\u001b[0;34m\u001b[0m\u001b[0m\n\u001b[1;32m      3\u001b[0m \u001b[0mpymaid_addons\u001b[0m\u001b[0;34m.\u001b[0m\u001b[0mwrite_catmaid_json\u001b[0m\u001b[0;34m(\u001b[0m\u001b[0mskids_to_colors\u001b[0m\u001b[0;34m,\u001b[0m \u001b[0;34m'test.json'\u001b[0m\u001b[0;34m)\u001b[0m\u001b[0;34m\u001b[0m\u001b[0;34m\u001b[0m\u001b[0m\n",
      "\u001b[0;32m~/ppc_env/lib/python3.7/site-packages/pymaid_addons/__init__.py\u001b[0m in \u001b[0;36m<module>\u001b[0;34m\u001b[0m\n\u001b[0;32m----> 1\u001b[0;31m \u001b[0;32mfrom\u001b[0m \u001b[0;34m.\u001b[0m\u001b[0mconnections\u001b[0m \u001b[0;32mimport\u001b[0m \u001b[0;34m*\u001b[0m\u001b[0;34m\u001b[0m\u001b[0;34m\u001b[0m\u001b[0m\n\u001b[0m\u001b[1;32m      2\u001b[0m \u001b[0;32mfrom\u001b[0m \u001b[0;34m.\u001b[0m\u001b[0mmanipulate_and_reupload_catmaid_neurons\u001b[0m \u001b[0;32mimport\u001b[0m \u001b[0;34m*\u001b[0m\u001b[0;34m\u001b[0m\u001b[0;34m\u001b[0m\u001b[0m\n\u001b[1;32m      3\u001b[0m \u001b[0;32mfrom\u001b[0m \u001b[0;34m.\u001b[0m\u001b[0mmake_3dViewer_json\u001b[0m \u001b[0;32mimport\u001b[0m \u001b[0;34m*\u001b[0m\u001b[0;34m\u001b[0m\u001b[0;34m\u001b[0m\u001b[0m\n\u001b[1;32m      4\u001b[0m \u001b[0;34m\u001b[0m\u001b[0m\n\u001b[1;32m      5\u001b[0m \u001b[0;32mdef\u001b[0m \u001b[0mreset_connection\u001b[0m\u001b[0;34m(\u001b[0m\u001b[0mconfig_filename\u001b[0m\u001b[0;34m=\u001b[0m\u001b[0;34m'default_connection.json'\u001b[0m\u001b[0;34m)\u001b[0m\u001b[0;34m:\u001b[0m\u001b[0;34m\u001b[0m\u001b[0;34m\u001b[0m\u001b[0m\n",
      "\u001b[0;32m~/ppc_env/lib/python3.7/site-packages/pymaid_addons/connections.py\u001b[0m in \u001b[0;36m<module>\u001b[0;34m\u001b[0m\n\u001b[1;32m     23\u001b[0m     \u001b[0;32mwith\u001b[0m \u001b[0mopen\u001b[0m\u001b[0;34m(\u001b[0m\u001b[0mnicknames_fn\u001b[0m\u001b[0;34m,\u001b[0m \u001b[0;34m'r'\u001b[0m\u001b[0;34m)\u001b[0m \u001b[0;32mas\u001b[0m \u001b[0mf\u001b[0m\u001b[0;34m:\u001b[0m\u001b[0;34m\u001b[0m\u001b[0;34m\u001b[0m\u001b[0m\n\u001b[1;32m     24\u001b[0m         \u001b[0mconnection_nicknames\u001b[0m\u001b[0;34m.\u001b[0m\u001b[0mupdate\u001b[0m\u001b[0;34m(\u001b[0m\u001b[0mjson\u001b[0m\u001b[0;34m.\u001b[0m\u001b[0mload\u001b[0m\u001b[0;34m(\u001b[0m\u001b[0mf\u001b[0m\u001b[0;34m)\u001b[0m\u001b[0;34m)\u001b[0m\u001b[0;34m\u001b[0m\u001b[0;34m\u001b[0m\u001b[0m\n\u001b[0;32m---> 25\u001b[0;31m \u001b[0;32mdel\u001b[0m \u001b[0mf\u001b[0m\u001b[0;34m\u001b[0m\u001b[0;34m\u001b[0m\u001b[0m\n\u001b[0m\u001b[1;32m     26\u001b[0m \u001b[0;34m\u001b[0m\u001b[0m\n\u001b[1;32m     27\u001b[0m \u001b[0;34m\u001b[0m\u001b[0m\n",
      "\u001b[0;31mNameError\u001b[0m: name 'f' is not defined"
     ]
    }
   ],
   "source": [
    "import pymaid_addons\n",
    "importlib.reload(pymaid_addons)\n",
    "pymaid_addons.write_catmaid_json(skids_to_colors, 'test.json')"
   ]
  }
 ],
 "metadata": {
  "kernelspec": {
   "display_name": "Python 3",
   "language": "python",
   "name": "python3"
  },
  "language_info": {
   "codemirror_mode": {
    "name": "ipython",
    "version": 3
   },
   "file_extension": ".py",
   "mimetype": "text/x-python",
   "name": "python",
   "nbconvert_exporter": "python",
   "pygments_lexer": "ipython3",
   "version": "3.7.6"
  }
 },
 "nbformat": 4,
 "nbformat_minor": 4
}
